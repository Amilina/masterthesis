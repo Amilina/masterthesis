{
 "cells": [
  {
   "cell_type": "code",
   "execution_count": 1,
   "id": "f16dab12",
   "metadata": {},
   "outputs": [],
   "source": [
    "import re\n",
    "import pandas as pd"
   ]
  },
  {
   "cell_type": "code",
   "execution_count": 7,
   "id": "17327e99",
   "metadata": {},
   "outputs": [],
   "source": [
    "indicators = pd.read_excel('Indicators.xlsx')\n",
    "apodictic_all = indicators['apodictic'].tolist()\n",
    "apodictic = [x for x in apodictic_all if x == x]\n",
    "problematizing = indicators['problematizing'].tolist()\n",
    "arguments_df = pd.read_excel('arguments.xlsx')\n",
    "arguments = arguments_df['Arguments'].tolist()"
   ]
  },
  {
   "cell_type": "code",
   "execution_count": 51,
   "id": "b67a7d87",
   "metadata": {},
   "outputs": [],
   "source": [
    "# Method for matching Indicators \n",
    "def findIndicators(apodictic, problematizing, argument):\n",
    "    \n",
    "    # Define the regular expression pattern to match any of the indicators\n",
    "    pattern = r'\\b(?:%s)\\b' % '|'.join(map(re.escape, apodictic + problematizing))\n",
    "\n",
    "    # Use the finditer() method of the re module to search for matches in the text\n",
    "    matches = re.finditer(pattern, argument)\n",
    "\n",
    "    # Define empty lists to store the matches for each category\n",
    "    apodictic_matches = []\n",
    "    problematizing_matches = []\n",
    "    results = {\"Argument\": [],\"Classification\":[],\"Apodictic Matches\":[],\"Problematizing Matches\":[]}\n",
    "\n",
    "    # Loop over the matches and add them to the appropriate list\n",
    "    for match in matches:\n",
    "        if match.group() in apodictic:\n",
    "            apodictic_matches.append(match.group())\n",
    "        elif match.group() in problematizing:\n",
    "            problematizing_matches.append(match.group())\n",
    "\n",
    "    #Classification\n",
    "    if len(apodictic_matches) > len(problematizing_matches):\n",
    "        classification = \"apodictic\"\n",
    "    elif len(problematizing_matches) > len(apodictic_matches):\n",
    "        classification = \"problematizing\"\n",
    "    else:\n",
    "        classification = \"neutral\"\n",
    "\n",
    "    # Append the results to the list\n",
    "    #results.append({'Argument': argument, 'Classification': classification, 'Apodictic Matches': apodictic_matches, 'Problematizing Matches': problematizing_matches})\n",
    "    results[\"Argument\"].append(argument)\n",
    "    results[\"Classification\"].append(classification)\n",
    "    results[\"Apodictic Matches\"].append(apodictic_matches)\n",
    "    results[\"Problematizing Matches\"].append(problematizing_matches)\n",
    "    return results"
   ]
  },
  {
   "cell_type": "code",
   "execution_count": 52,
   "id": "290d8663",
   "metadata": {},
   "outputs": [],
   "source": [
    "results = []\n",
    "for argument in arguments:\n",
    "    entries = findIndicators(apodictic, problematizing, argument)\n",
    "    #print(test)\n",
    "    results.append(entries)\n",
    "\n",
    "# Create a new dataframe with the results\n",
    "df = pd.DataFrame(results)\n",
    "\n",
    "# Write the dataframe to an Excel file\n",
    "df.to_excel('results.xlsx', index=False)\n"
   ]
  }
 ],
 "metadata": {
  "kernelspec": {
   "display_name": "Python 3 (ipykernel)",
   "language": "python",
   "name": "python3"
  },
  "language_info": {
   "codemirror_mode": {
    "name": "ipython",
    "version": 3
   },
   "file_extension": ".py",
   "mimetype": "text/x-python",
   "name": "python",
   "nbconvert_exporter": "python",
   "pygments_lexer": "ipython3",
   "version": "3.9.12"
  }
 },
 "nbformat": 4,
 "nbformat_minor": 5
}
